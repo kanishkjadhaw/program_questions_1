{
 "cells": [
  {
   "cell_type": "raw",
   "id": "d291ec04",
   "metadata": {},
   "source": [
    "1.\tWrite a Python program to print \"Hello Python\"?"
   ]
  },
  {
   "cell_type": "code",
   "execution_count": 1,
   "id": "09a35ef0",
   "metadata": {},
   "outputs": [
    {
     "name": "stdout",
     "output_type": "stream",
     "text": [
      "Hello Python\n"
     ]
    }
   ],
   "source": [
    "a = \"Hello Python\"\n",
    "print(a)"
   ]
  },
  {
   "cell_type": "raw",
   "id": "393ad3ff",
   "metadata": {},
   "source": [
    "2.\tWrite a Python program to do arithmetical operations addition and division.?"
   ]
  },
  {
   "cell_type": "code",
   "execution_count": 2,
   "id": "4aeaa27c",
   "metadata": {},
   "outputs": [
    {
     "name": "stdout",
     "output_type": "stream",
     "text": [
      "Enter num 1: 5\n",
      "Enter num 2: 2\n",
      "7 and 2.5\n"
     ]
    }
   ],
   "source": [
    "num1 = int(input(\"Enter num 1: \"))\n",
    "num2 = int(input(\"Enter num 2: \"))\n",
    "a = num1 + num2\n",
    "b = num1 / num2\n",
    "print(a ,\"and\", b)"
   ]
  },
  {
   "cell_type": "raw",
   "id": "93de3135",
   "metadata": {},
   "source": [
    "3.\tWrite a Python program to find the area of a triangle?"
   ]
  },
  {
   "cell_type": "code",
   "execution_count": 3,
   "id": "de2870a6",
   "metadata": {},
   "outputs": [
    {
     "name": "stdout",
     "output_type": "stream",
     "text": [
      "Enter the base value: 5\n",
      "Enter the hight value: 2\n",
      "Area of triangle is:  5.0\n"
     ]
    }
   ],
   "source": [
    "base = int(input(\"Enter the base value: \"))\n",
    "height = int(input(\"Enter the hight value: \"))\n",
    "\n",
    "area = base*height*0.5\n",
    "print(\"Area of triangle is: \", area)\n"
   ]
  },
  {
   "cell_type": "raw",
   "id": "5a1e133a",
   "metadata": {},
   "source": [
    "4.\tWrite a Python program to swap two variables?"
   ]
  },
  {
   "cell_type": "code",
   "execution_count": 4,
   "id": "6d851bb7",
   "metadata": {},
   "outputs": [
    {
     "name": "stdout",
     "output_type": "stream",
     "text": [
      "enter the number of a 5\n",
      "enter the number of b 6\n",
      "After swaping value of a and b is  6 and 5\n"
     ]
    }
   ],
   "source": [
    "a = int(input(\"enter the number of a \"))\n",
    "b = int(input(\"enter the number of b \"))\n",
    "\n",
    "val = a\n",
    "a = b\n",
    "b = val\n",
    "\n",
    "print(\"After swaping value of a and b is \",a,\"and\",b)\n"
   ]
  },
  {
   "cell_type": "code",
   "execution_count": 5,
   "id": "bfa4c3df",
   "metadata": {},
   "outputs": [
    {
     "name": "stdout",
     "output_type": "stream",
     "text": [
      "enter the number of a 5\n",
      "enter the number of b 6\n",
      "After swaping value of a and b is  6 and 5\n"
     ]
    }
   ],
   "source": [
    "a = int(input(\"enter the number of a \"))\n",
    "b = int(input(\"enter the number of b \"))\n",
    "\n",
    "a = a+b\n",
    "b = a-b\n",
    "a = a-b\n",
    "\n",
    "print(\"After swaping value of a and b is \",a,\"and\",b)"
   ]
  },
  {
   "cell_type": "raw",
   "id": "9eb78f0b",
   "metadata": {},
   "source": [
    "5. Write a Python program to generate a random number?"
   ]
  },
  {
   "cell_type": "code",
   "execution_count": 6,
   "id": "5c5fe201",
   "metadata": {},
   "outputs": [],
   "source": [
    "import random"
   ]
  },
  {
   "cell_type": "code",
   "execution_count": 7,
   "id": "9aca9a98",
   "metadata": {},
   "outputs": [
    {
     "data": {
      "text/plain": [
       "11"
      ]
     },
     "execution_count": 7,
     "metadata": {},
     "output_type": "execute_result"
    }
   ],
   "source": [
    "random.randint(1,50)"
   ]
  },
  {
   "cell_type": "code",
   "execution_count": null,
   "id": "cac4a322",
   "metadata": {},
   "outputs": [],
   "source": []
  }
 ],
 "metadata": {
  "kernelspec": {
   "display_name": "Python 3 (ipykernel)",
   "language": "python",
   "name": "python3"
  },
  "language_info": {
   "codemirror_mode": {
    "name": "ipython",
    "version": 3
   },
   "file_extension": ".py",
   "mimetype": "text/x-python",
   "name": "python",
   "nbconvert_exporter": "python",
   "pygments_lexer": "ipython3",
   "version": "3.9.12"
  }
 },
 "nbformat": 4,
 "nbformat_minor": 5
}
